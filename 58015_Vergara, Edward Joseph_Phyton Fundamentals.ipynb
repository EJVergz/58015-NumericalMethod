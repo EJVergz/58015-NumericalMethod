{
  "nbformat": 4,
  "nbformat_minor": 0,
  "metadata": {
    "colab": {
      "name": "Untitled0.ipynb",
      "provenance": [],
      "collapsed_sections": [],
      "authorship_tag": "ABX9TyMA5I7go67VAjxcfMTT4bdJ",
      "include_colab_link": true
    },
    "kernelspec": {
      "name": "python3",
      "display_name": "Python 3"
    }
  },
  "cells": [
    {
      "cell_type": "markdown",
      "metadata": {
        "id": "view-in-github",
        "colab_type": "text"
      },
      "source": [
        "<a href=\"https://colab.research.google.com/github/EJVergz/58015-NumericalMethod/blob/main/58015_Vergara%2C%20Edward%20Joseph_Phyton%20Fundamentals.ipynb\" target=\"_parent\"><img src=\"https://colab.research.google.com/assets/colab-badge.svg\" alt=\"Open In Colab\"/></a>"
      ]
    },
    {
      "cell_type": "code",
      "metadata": {
        "colab": {
          "base_uri": "https://localhost:8080/"
        },
        "id": "g2KGgooK5OSC",
        "outputId": "b5b355b7-a8ad-42fa-9b89-281e29342f00"
      },
      "source": [
        "def compute_semgrade():\r\n",
        "  student_name = input(\"Enter your student name: \")\r\n",
        "  course = input(\"Course: \")\r\n",
        "  prelim_grade = float(input(\"Enter your Prelim Grade: \"))\r\n",
        "  midterm_grade = float(input(\"Enter your Midterm Grade: \"))\r\n",
        "  finals_grade = float(input(\"Enter your Final Grade: \"))\r\n",
        "  prelim_comp = prelim_grade*0.3\r\n",
        "  midterm_comp = midterm_grade*0.3\r\n",
        "  finals_comp = finals_grade*0.4  \r\n",
        "  sem_grade = prelim_comp+midterm_comp+finals_comp\r\n",
        "  sem_grade = round(sem_grade,2)\r\n",
        "\r\n",
        "  if sem_grade>70:\r\n",
        "    print(\"\\U0001F600\")\r\n",
        "  elif sem_grade<70:\r\n",
        "    print(\"\\U0001F613\")   \r\n",
        "  elif sem_grade == 70:\r\n",
        "    print(\"\\U0001F923\")\r\n",
        "  print(\"Hello {}, Course {}, your semestral grade is {}\".format(student_name, course, sem_grade))\r\n",
        "compute_semgrade()"
      ],
      "execution_count": null,
      "outputs": [
        {
          "output_type": "stream",
          "text": [
            "Enter your student name: ej\n",
            "Course: BS CPE\n",
            "Enter your Prelim Grade: 70\n",
            "Enter your Midterm Grade: 70.286\n",
            "Enter your Final Grade: 71.5\n",
            "😀\n",
            "Hello ej, Course BS CPE, your semestral grade is 70.69\n"
          ],
          "name": "stdout"
        }
      ]
    },
    {
      "cell_type": "markdown",
      "metadata": {
        "id": "pVwa6HXpAbRh"
      },
      "source": [
        "**Welcome to Python Fundamentals**\r\n",
        "\r\n",
        "by E.J Vergara © 2021\r\n",
        "\r\n",
        "For this activity, we need to create a program/function that computes the semestral grade of the course. the program will ask the information for the Students, which could print their names, the name of the course, then their prelim, midterm, and finals grades.\r\n",
        "\r\n",
        "The program should print the semestral grade in 2 decimal points and it should display a happy emoji if the semestral grade is greater than 70, a sad emoji if the grade is less than 70, and a lol emoji if the grade is equal to 70. here is the [Link](https://github.com/EJVergz/58015-NumericalMethod/blob/main/58015_Vergara%2C%20Edward%20Joseph_Phyton%20Fundamentals.ipynb) of the Github Repository. \r\n"
      ]
    }
  ]
}