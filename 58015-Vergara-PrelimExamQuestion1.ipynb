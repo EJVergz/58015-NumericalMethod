{
  "nbformat": 4,
  "nbformat_minor": 0,
  "metadata": {
    "colab": {
      "name": "Untitled21.ipynb",
      "provenance": [],
      "collapsed_sections": [],
      "authorship_tag": "ABX9TyNksC4QXCq1xA1EKX+SryaT",
      "include_colab_link": true
    },
    "kernelspec": {
      "name": "python3",
      "display_name": "Python 3"
    }
  },
  "cells": [
    {
      "cell_type": "markdown",
      "metadata": {
        "id": "view-in-github",
        "colab_type": "text"
      },
      "source": [
        "<a href=\"https://colab.research.google.com/github/EJVergz/58015-NumericalMethod/blob/main/58015-Vergara-PrelimExamQuestion1.ipynb\" target=\"_parent\"><img src=\"https://colab.research.google.com/assets/colab-badge.svg\" alt=\"Open In Colab\"/></a>"
      ]
    },
    {
      "cell_type": "markdown",
      "metadata": {
        "id": "it8k6uBG3gAY"
      },
      "source": [
        "#Brute Force Method\r\n",
        "\r\n",
        "*© A.D Buenaventura, M.A Catinoy and E.J Vergara 2021*"
      ]
    },
    {
      "cell_type": "code",
      "metadata": {
        "colab": {
          "base_uri": "https://localhost:8080/"
        },
        "id": "zecOYrqp3jlZ",
        "outputId": "80b25e03-6088-463a-a462-c010e965204d"
      },
      "source": [
        "import numpy as np\r\n",
        "def f1(x):\r\n",
        "    return x**3 - 2*x - 1\r\n",
        "def f2(x):\r\n",
        "    return 3*x**2 - 2\r\n",
        "epochs = 50\r\n",
        "h = -10\r\n",
        "x_roots = []\r\n",
        "for epoch in range(epochs):\r\n",
        "  x_guess = f(h)\r\n",
        "  print(x_guess)\r\n",
        "  if x_guess == 0:\r\n",
        "    x_roots.append(h)\r\n",
        "    break\r\n",
        "  else:\r\n",
        "    h+=1\r\n",
        "print(f\"The root is: {x_roots}, found at epoch {epoch}\")"
      ],
      "execution_count": 40,
      "outputs": [
        {
          "output_type": "stream",
          "text": [
            "-981\n",
            "-712\n",
            "-497\n",
            "-330\n",
            "-205\n",
            "-116\n",
            "-57\n",
            "-22\n",
            "-5\n",
            "0\n",
            "The root is: [-1], found at epoch 9\n"
          ],
          "name": "stdout"
        }
      ]
    },
    {
      "cell_type": "markdown",
      "metadata": {
        "id": "BEhydmRcNy-n"
      },
      "source": [
        "#NEWTON RAPHSON METHOD\r\n",
        "*© A.D Buenaventura, M.A Catinoy and E.J Vergara 2021*\r\n",
        "First, we need to define what function we are using, next is we need to define the derivative of the function then input the values, error and the iteration. In implementing the method, Only one guess is required when using the Newton Raphson method. Because the formula is simple, the program will be simple to follow. It is faster than the other method in terms of convergence. Convert values and error to float and step to int. The formula that will be using in Newton Raphson Method\r\n",
        "$$x_1 = x0 - f(x_0)/g(x_0)$$ \r\n",
        "\r\n",
        "The increment used in newton method is step = step + 1\r\n",
        "\r\n",
        "%d means decimal integer.\r\n",
        "\r\n",
        "% f means float "
      ]
    },
    {
      "cell_type": "code",
      "metadata": {
        "colab": {
          "base_uri": "https://localhost:8080/"
        },
        "id": "ah7F6DYBn59D",
        "outputId": "5f18658d-1018-4fe3-e806-a7eb748a336b"
      },
      "source": [
        "import numpy as np\r\n",
        "def f(x):\r\n",
        "    return x**3 - 2*x - 1\r\n",
        "def fprime(x):\r\n",
        "    return 3*x**2 - 2\r\n",
        "def newton(x0,x2,n):\r\n",
        "    step = 1\r\n",
        "    steps = 1\r\n",
        "    condition = True\r\n",
        "    while condition:\r\n",
        "        if fprime(x0) == 0.0:\r\n",
        "            print('There is a mathematical error.')\r\n",
        "            break      \r\n",
        "        x1 = x0 - f(x0)/g(x0)\r\n",
        "        print('Iteration -%d, x1 = %0.6f and f(x1) = %0.6f' % (step, x1, f(x1)))\r\n",
        "        x0 = x1\r\n",
        "        step = step + 1\r\n",
        "        \r\n",
        "        if step > n:\r\n",
        "            steps = 0\r\n",
        "            break\r\n",
        "        \r\n",
        "        condition = abs(f(x1)) > x2\r\n",
        "x0 = 2\r\n",
        "x2 = 0.000001\r\n",
        "n = 10\r\n",
        "\r\n",
        "x0 = float(x0)\r\n",
        "x2 = float(x2)\r\n",
        "n = int(n)\r\n",
        "\r\n",
        "newton(x0,x2,N)\r\n",
        "epochs = 100\r\n",
        "x_inits = np.arange(0,5)\r\n",
        "roots = []\r\n",
        "for x_init in x_inits:\r\n",
        "  x = x_init\r\n",
        "  for epoch in range(epochs):\r\n",
        "    x_prime = x - (f(x)/g(x))\r\n",
        "    if np.allclose(x, x_prime):\r\n",
        "      roots.append(x)\r\n",
        "      break\r\n",
        "    x = x_prime\r\n",
        "print(\"The roots are {}, found at epoch {} \" .format(roots,epoch))"
      ],
      "execution_count": 31,
      "outputs": [
        {
          "output_type": "stream",
          "text": [
            "Iteration -1, x1 = 1.700000 and f(x1) = 0.513000\n",
            "Iteration -2, x1 = 1.623088 and f(x1) = 0.029714\n",
            "Iteration -3, x1 = 1.618055 and f(x1) = 0.000123\n",
            "Iteration -4, x1 = 1.618034 and f(x1) = 0.000000\n",
            "The roots are [-0.6180330952207308, 1.6180340494407914, 1.6180339891173305, 1.6180340494407914, 1.618033993749808], found at epoch 6 \n"
          ],
          "name": "stdout"
        }
      ]
    },
    {
      "cell_type": "markdown",
      "metadata": {
        "id": "GD5YJhoaN4I4"
      },
      "source": [
        "#BISECTION METHOD\r\n",
        "*© A.D Buenaventura, M.A Catinoy and E.J Vergara 2021*\r\n",
        "\r\n",
        "First, we need to define a function, choose a value for x0 and x1 and choose a value of error. The Bisection method is always convergent. Increasing the number of iterations in the bisection method always results in a more accurate root. There are no complicated calculations required when using the bisection method. We simply need to take the average of two numbers. There is a guaranteed error bound in this method, and it decreases with each iteration. The formula used in Bisection method is $$x_2 = (x_0 + x_1)/2$$\r\n",
        "\r\n",
        "The increment used is step = step + 1.\r\n",
        "\r\n",
        "% f means float \r\n"
      ]
    },
    {
      "cell_type": "code",
      "metadata": {
        "colab": {
          "base_uri": "https://localhost:8080/"
        },
        "id": "5-b7Rvon1-kF",
        "outputId": "5ef60466-b395-4af3-d1cc-9b4754a01ca7"
      },
      "source": [
        "def f(x):\r\n",
        "    return x**3 - 2*x - 1\r\n",
        "\r\n",
        "def bisection(x0,x1,n):\r\n",
        "    step = 1\r\n",
        "    condition = True\r\n",
        "    while condition:\r\n",
        "        x2 = (x0 + x1)/2\r\n",
        "        print('Iteration-%d, x2 = %0.6f and f(x2) = %0.6f' % (step, x2, f(x2)))\r\n",
        "\r\n",
        "        if f(x0) * f(x2) < 0:\r\n",
        "            x1 = x2\r\n",
        "        else:\r\n",
        "            x0 = x2\r\n",
        "        \r\n",
        "        step = step + 1\r\n",
        "        condition = abs(f(x2)) > n\r\n",
        "\r\n",
        "x0 = 2\r\n",
        "x1 = 3\r\n",
        "n = 0.0001\r\n",
        "\r\n",
        "x0 = float(x0)\r\n",
        "x1 = float(x1)\r\n",
        "n = float(e)\r\n",
        "\r\n",
        "if f(x0) * f(x1) > 0.0:\r\n",
        "    print('The given value do not bracket the root.')\r\n",
        "    print('Try Again.')\r\n",
        "else:\r\n",
        "    bisection(x0,x1,e)\r\n",
        "epochs = 100\r\n",
        "x_inits = np.arange(0,5)\r\n",
        "roots = []\r\n",
        "for x_init in x_inits:\r\n",
        "  x = x_init\r\n",
        "  for epoch in range(epochs):\r\n",
        "    x_prime = x - (f(x)/g(x))\r\n",
        "    if np.allclose(x, x_prime):\r\n",
        "      roots.append(x)\r\n",
        "      break\r\n",
        "    x = x_prime\r\n",
        "print(\"The roots are {}, found at epoch {} \" .format(roots,epoch))"
      ],
      "execution_count": 9,
      "outputs": [
        {
          "output_type": "stream",
          "text": [
            "The given value do not bracket the root.\n",
            "Try Again.\n",
            "The roots are [-0.6180330952207308, 1.6180340494407914, 1.6180339891173305, 1.6180340494407914, 1.618033993749808], found at epoch 6 \n"
          ],
          "name": "stdout"
        }
      ]
    },
    {
      "cell_type": "markdown",
      "metadata": {
        "id": "FWbdvDoUOK1F"
      },
      "source": [
        "#Regula Falsi Method\r\n",
        "*© A.D Buenaventura, M.A Catinoy and E.J Vergara 2021*\r\n",
        "\r\n",
        "The Regula Falsi Method is guaranteed to be convergent, and you only need to input two values. It's also simple to put into practice in terms of programming.if $$f(x_0)f(x_2) < 0$$ \r\n",
        "then $$x_0 = x0 \r\n",
        "and x_1 = x_2$$\r\n",
        "if $$f(x_0)f(x_2) > 0$$ \r\n",
        "then $$x_0 = x_2$$ and $$x_1 = x_1$$\r\n",
        "if $$f(x_0)f(x_2) = 0$$ then it will display the root of the $$x_2$$\r\n",
        "\r\n",
        "The formula that will be using for Regula Falsi Method: $$x_2 = x_0 - (x_1-x_0) * f(x_0)/( f(x_1) - f(x_0) )$$\r\n",
        "The increment used in this code is step = step + 1\r\n",
        "%d means decimal integer.\r\n",
        "% f means float "
      ]
    },
    {
      "cell_type": "code",
      "metadata": {
        "colab": {
          "base_uri": "https://localhost:8080/"
        },
        "id": "_tdc-mAs6nmj",
        "outputId": "a4fbd9ad-ab45-4c29-cef6-5829b5a15c43"
      },
      "source": [
        "def f(x):\r\n",
        "    return x**3 - 2*x - 1\r\n",
        "\r\n",
        "def regula(x0,x1,n):\r\n",
        "    step = 1\r\n",
        "    condition = True\r\n",
        "    while condition:\r\n",
        "        x2 = x0 - (x1-x0) * f(x0)/( f(x1) - f(x0) )\r\n",
        "        print('Iteration-%d, x2 = %0.6f and f(x2) = %0.6f' % (step, x2, f(x2)))\r\n",
        "\r\n",
        "        if f(x0) * f(x2) < 0:\r\n",
        "            x1 = x2\r\n",
        "        else:\r\n",
        "            x0 = x2\r\n",
        "\r\n",
        "        step = step + 1\r\n",
        "        condition = abs(f(x2)) > e\r\n",
        "\r\n",
        "x0 = 2\r\n",
        "x1 = 3\r\n",
        "n = 0.0001\r\n",
        "\r\n",
        "x0 = float(x0)\r\n",
        "x1 = float(x1)\r\n",
        "e = float(e)\r\n",
        "\r\n",
        "if f(x0) * f(x1) > 0.0:\r\n",
        "    print('The given value do not bracket the root.')\r\n",
        "    print('Try Again.')\r\n",
        "else:\r\n",
        "    regulafalsi(x0,x1,e)\r\n",
        "epochs = 100\r\n",
        "x_inits = np.arange(0,5)\r\n",
        "roots = []\r\n",
        "for x_init in x_inits:\r\n",
        "  x = x_init\r\n",
        "  for epoch in range(epochs):\r\n",
        "    x_prime = x - (f(x)/g(x))\r\n",
        "    if np.allclose(x, x_prime):\r\n",
        "      roots.append(x)\r\n",
        "      break\r\n",
        "    x = x_prime\r\n",
        "print(\"The roots are {}, found at epoch {} \" .format(roots,epoch))"
      ],
      "execution_count": 29,
      "outputs": [
        {
          "output_type": "stream",
          "text": [
            "The given value do not bracket the root.\n",
            "Try Again.\n",
            "The roots are [-0.6180330952207308, 1.6180340494407914, 1.6180339891173305, 1.6180340494407914, 1.618033993749808], found at epoch 6 \n"
          ],
          "name": "stdout"
        }
      ]
    },
    {
      "cell_type": "markdown",
      "metadata": {
        "id": "JBLQ7if9aZ12"
      },
      "source": [
        "#SECANT METHOD\r\n",
        "*© A.D Buenaventura, M.A Catinoy and E.J Vergara 2021*\r\n",
        "\r\n",
        "First, we need to define  a function, next is we need an input values, error and iteration to make a secant method. If $$f(x_0) = f(x_1)$$\r\n",
        "Print \"Error\"\r\n",
        "then, stop. \r\n",
        "\r\n",
        "If $$x_2 = x_1 - (x_1 - x_0) * f(x_1) / ( f(x_1) - f(x_0) )$$\r\n",
        "$$x_0 = x_1$$\r\n",
        "$$x_1 = x_2$$\r\n",
        "\r\n",
        "then there is an increment step = step + 1\r\n",
        "\r\n",
        "Secant method does not require the use of derivative of function.\r\n",
        "\r\n",
        "%d means decimal integer.\r\n",
        "\r\n",
        "% f means float "
      ]
    },
    {
      "cell_type": "code",
      "metadata": {
        "colab": {
          "base_uri": "https://localhost:8080/"
        },
        "id": "iyTLNzHz7o8L",
        "outputId": "15b46131-b230-45a3-9dd3-2c563c2c2beb"
      },
      "source": [
        "def f(x):\r\n",
        "    return x**3 - 2*x - 1\r\n",
        "\r\n",
        "def secant(x0,x1,n,N):\r\n",
        "    step = 1\r\n",
        "    condition = True\r\n",
        "    while condition:\r\n",
        "        if f(x0) == f(x1):\r\n",
        "            print('There is a mathematical error.')\r\n",
        "            break\r\n",
        "        \r\n",
        "        x2 = x0 - (x1-x0)*f(x0)/( f(x1) - f(x0) ) \r\n",
        "        print('Iteration-%d, x2 = %0.6f and f(x2) = %0.6f' % (step, x2, f(x2)))\r\n",
        "        x0 = x1\r\n",
        "        x1 = x2\r\n",
        "        step = step + 1\r\n",
        "        \r\n",
        "        if step > N:\r\n",
        "            print('Not Convergent!')\r\n",
        "            break\r\n",
        "        \r\n",
        "        condition = abs(f(x2)) > n\r\n",
        "\r\n",
        "x0 = 2\r\n",
        "x1 = 3\r\n",
        "n = 0.0001\r\n",
        "N = 10\r\n",
        "x0 = float(x0)\r\n",
        "x1 = float(x1)\r\n",
        "n = float(e)\r\n",
        "N = int(N)\r\n",
        "\r\n",
        "secant(x0,x1,e,N)\r\n",
        "epochs = 100\r\n",
        "x_inits = np.arange(0,5)\r\n",
        "roots = []\r\n",
        "for x_init in x_inits:\r\n",
        "  x = x_init\r\n",
        "  for epoch in range(epochs):\r\n",
        "    x_prime = x - (f(x)/g(x))\r\n",
        "    if np.allclose(x, x_prime):\r\n",
        "      roots.append(x)\r\n",
        "      break\r\n",
        "    x = x_prime\r\n",
        "print(\"The roots are {}, found at epoch {} \" .format(roots,epoch))"
      ],
      "execution_count": 6,
      "outputs": [
        {
          "output_type": "stream",
          "text": [
            "Iteration-1, x2 = 1.823529 and f(x2) = 1.416650\n",
            "Iteration-2, x2 = 1.733844 and f(x2) = 0.744623\n",
            "Iteration-3, x2 = 1.634471 and f(x2) = 0.097541\n",
            "Iteration-4, x2 = 1.619492 and f(x2) = 0.008544\n",
            "Iteration-5, x2 = 1.618054 and f(x2) = 0.000115\n",
            "Iteration-6, x2 = 1.618034 and f(x2) = 0.000000\n",
            "The roots are [-0.6180330952207308, 1.6180340494407914, 1.6180339891173305, 1.6180340494407914, 1.618033993749808], found at epoch 6 \n"
          ],
          "name": "stdout"
        }
      ]
    }
  ]
}