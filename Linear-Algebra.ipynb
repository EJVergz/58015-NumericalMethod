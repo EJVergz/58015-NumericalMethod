{
  "nbformat": 4,
  "nbformat_minor": 0,
  "metadata": {
    "colab": {
      "name": "Untitled5.ipynb",
      "provenance": [],
      "collapsed_sections": [],
      "authorship_tag": "ABX9TyPUU+pUnYDO9sYgDr+eb1Z5",
      "include_colab_link": true
    },
    "kernelspec": {
      "name": "python3",
      "display_name": "Python 3"
    }
  },
  "cells": [
    {
      "cell_type": "markdown",
      "metadata": {
        "id": "view-in-github",
        "colab_type": "text"
      },
      "source": [
        "<a href=\"https://colab.research.google.com/github/EJVergz/58015-NumericalMethod/blob/main/Linear-Algebra.ipynb\" target=\"_parent\"><img src=\"https://colab.research.google.com/assets/colab-badge.svg\" alt=\"Open In Colab\"/></a>"
      ]
    },
    {
      "cell_type": "code",
      "metadata": {
        "colab": {
          "base_uri": "https://localhost:8080/"
        },
        "id": "MPxNPEPjNvwO",
        "outputId": "5b5ecc02-04ba-4ed4-c74f-cd7f17eea536"
      },
      "source": [
        "!pip install numpy\r\n",
        "import numpy as np\r\n",
        "print(f'NumPy library version: {np.__version__}')"
      ],
      "execution_count": 52,
      "outputs": [
        {
          "output_type": "stream",
          "text": [
            "Requirement already satisfied: numpy in /usr/local/lib/python3.7/dist-packages (1.19.5)\n",
            "NumPy library version: 1.19.5\n"
          ],
          "name": "stdout"
        }
      ]
    },
    {
      "cell_type": "code",
      "metadata": {
        "colab": {
          "base_uri": "https://localhost:8080/"
        },
        "id": "fBkPUgQGkhGs",
        "outputId": "f63bc416-eecf-4b88-d592-4498af012fca"
      },
      "source": [
        "B = np.array([2,5,-1,0])\r\n",
        "def e_norm(x):\r\n",
        "  sq_scalar = [scalars ** 2 for scalars in x]\r\n",
        "  x_sum = 0\r\n",
        "  for scalars in range(sq_scalar):\r\n",
        "    x_sum += sq_scalar[scalars]\r\n",
        "  euclid_norm = np.sqrt(x_sum)\r\n",
        "  return euclid_norm\r\n",
        "print(\"Euclidian distance or the Euclidean Norm of the given example: \", norm(B))"
      ],
      "execution_count": 42,
      "outputs": [
        {
          "output_type": "stream",
          "text": [
            "Euclidian distance or the Euclidean Norm of the given example:  5.477225575051661\n"
          ],
          "name": "stdout"
        }
      ]
    },
    {
      "cell_type": "markdown",
      "metadata": {
        "id": "Zjjbc_QVxPWN"
      },
      "source": [
        "**Linear Algebra**\r\n",
        "\r\n",
        "*by E.J Vergara © 2021*\r\n",
        "\r\n",
        "For this first practice/activity, to get the Euclidian distance or Euclidean norm, each scalar must be squared, so it will be squared rooted in the sum of those squared scalars. By using this idea or function, it will start with squaring the scalars and then the sum of all squared scalars, after getting the sum of all squared scalars, it will be squared rooted. And then the return euclid_norm will give the value of the Euclidian distance or Euclidian norm.\r\n",
        "\r\n",
        "\r\n"
      ]
    },
    {
      "cell_type": "code",
      "metadata": {
        "colab": {
          "base_uri": "https://localhost:8080/"
        },
        "id": "xztslAyzTt7v",
        "outputId": "b408eee2-bcf7-4ebd-9adb-b00630ee3c74"
      },
      "source": [
        "!pip install numpy\r\n",
        "import numpy as np\r\n",
        "print(f'NumPy library version: {np.__version__}')"
      ],
      "execution_count": 54,
      "outputs": [
        {
          "output_type": "stream",
          "text": [
            "Requirement already satisfied: numpy in /usr/local/lib/python3.7/dist-packages (1.19.5)\n",
            "NumPy library version: 1.19.5\n"
          ],
          "name": "stdout"
        }
      ]
    },
    {
      "cell_type": "code",
      "metadata": {
        "colab": {
          "base_uri": "https://localhost:8080/"
        },
        "id": "2NxhwoqWcC3n",
        "outputId": "b43dd1db-299d-420a-e7e5-2e1d2b7a5232"
      },
      "source": [
        "def sigmoid(x):\r\n",
        "  return 1/(1+np.exp(-x))\r\n",
        "sigmoid(1.20)"
      ],
      "execution_count": 73,
      "outputs": [
        {
          "output_type": "execute_result",
          "data": {
            "text/plain": [
              "0.7685247834990175"
            ]
          },
          "metadata": {
            "tags": []
          },
          "execution_count": 73
        }
      ]
    },
    {
      "cell_type": "code",
      "metadata": {
        "colab": {
          "base_uri": "https://localhost:8080/"
        },
        "id": "VzDbaA2Kcmc2",
        "outputId": "b457eb79-65ae-40e3-bd69-448bf406d5d5"
      },
      "source": [
        "sigmoid = lambda x : 1/(1+np.exp(-x))\r\n",
        "sigmoid(1.20)"
      ],
      "execution_count": 82,
      "outputs": [
        {
          "output_type": "execute_result",
          "data": {
            "text/plain": [
              "0.7685247834990175"
            ]
          },
          "metadata": {
            "tags": []
          },
          "execution_count": 82
        }
      ]
    },
    {
      "cell_type": "code",
      "metadata": {
        "colab": {
          "base_uri": "https://localhost:8080/",
          "height": 279
        },
        "id": "mRna0LpNdBH_",
        "outputId": "e049e390-359c-4c94-feb9-6b5e0a938586"
      },
      "source": [
        "import matplotlib.pyplot as plt \r\n",
        "import numpy as np \r\n",
        "import math \r\n",
        "\r\n",
        "x = np.linspace(-6, 6, 100) \r\n",
        "y = (1/(1 + np.exp(-x)))\r\n",
        "plt.plot(x, y)\r\n",
        "plt.xlabel(\"x-axis\")\r\n",
        "plt.ylabel(\"y-axis\") \r\n",
        "plt.show()"
      ],
      "execution_count": 79,
      "outputs": [
        {
          "output_type": "display_data",
          "data": {
            "image/png": "[encoded data removed]",
            "text/plain": [
              "<Figure size 432x288 with 1 Axes>"
            ]
          },
          "metadata": {
            "tags": [],
            "needs_background": "light"
          }
        }
      ]
    },
    {
      "cell_type": "markdown",
      "metadata": {
        "id": "CUclOfs1eBTV"
      },
      "source": [
        "**Linear Algebra**\r\n",
        "\r\n",
        "*by E.J Vergara © 2021*\r\n",
        "\r\n",
        "For this second practice/activity 2, the activity required a function and a lambda function. The standard function is nearly the same as the lambda function. In the first function, it can only return the formula if the function needs to return the formula. In the lambda function, x is used as the \"argument\" and formula."
      ]
    }
  ]
}