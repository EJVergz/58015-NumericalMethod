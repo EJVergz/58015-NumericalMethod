{
  "nbformat": 4,
  "nbformat_minor": 0,
  "metadata": {
    "colab": {
      "name": "Untitled15.ipynb",
      "provenance": [],
      "collapsed_sections": [],
      "authorship_tag": "ABX9TyMbCzG2znD/gCVLp51qrGRY",
      "include_colab_link": true
    },
    "kernelspec": {
      "name": "python3",
      "display_name": "Python 3"
    }
  },
  "cells": [
    {
      "cell_type": "markdown",
      "metadata": {
        "id": "view-in-github",
        "colab_type": "text"
      },
      "source": [
        "<a href=\"https://colab.research.google.com/github/EJVergz/58015-NumericalMethod/blob/main/NuMeth_Group7_CodingActivity4RootsOfLinearEquation.ipynb\" target=\"_parent\"><img src=\"https://colab.research.google.com/assets/colab-badge.svg\" alt=\"Open In Colab\"/></a>"
      ]
    },
    {
      "cell_type": "markdown",
      "metadata": {
        "id": "uzsMGj71WhDF"
      },
      "source": [
        ""
      ]
    },
    {
      "cell_type": "code",
      "metadata": {
        "colab": {
          "base_uri": "https://localhost:8080/"
        },
        "id": "VdUU_BYJU972",
        "outputId": "ddf8d8ea-6deb-4982-e2ba-3c407d26620e"
      },
      "source": [
        "import numpy as np\r\n",
        "import matplotlib.pyplot as plt\r\n",
        "\r\n",
        "def f(x):\r\n",
        "    return 2*x**2 - 5*x + 3\r\n",
        "\r\n",
        "def bisection(a,b,tolerance):\r\n",
        "    y = a\r\n",
        "    z = b\r\n",
        "    i = 1\r\n",
        "    while (np.abs(z-y)>= tolerance):\r\n",
        "        c = (y + z)/2\r\n",
        "        total = f(y)*f(c)\r\n",
        "        if total > tolerance:\r\n",
        "            y = c\r\n",
        "            i += 1\r\n",
        "        else:\r\n",
        "            if total < tolerance:\r\n",
        "                z = c\r\n",
        "                i += 1\r\n",
        "    return i,c\r\n",
        "\r\n",
        "answer = bisection(1.1,2, 1e-06)\r\n",
        "print('Answer = ', answer[1])\r\n",
        "print('Number of iterations = ', answer[0])\r\n",
        "print ('Results finding the root = ', answer)"
      ],
      "execution_count": 17,
      "outputs": [
        {
          "output_type": "stream",
          "text": [
            "Answer =  1.4990242958068847\n",
            "Number of iterations =  21\n",
            "Results finding the root =  (21, 1.4990242958068847)\n"
          ],
          "name": "stdout"
        }
      ]
    },
    {
      "cell_type": "markdown",
      "metadata": {
        "id": "Jg_S6-F9T5Kf"
      },
      "source": [
        "**About the codes**\r\n",
        "\r\n",
        "by A.D Buenaventura, M.A Catinoy and E.J Vergara © 2021\r\n",
        "\r\n",
        "\r\n",
        "In Bisection Method, we need to create a defined function. $$c = (y + z)/2$$ is the formula that we use to find the root of the given equation which is $$2x^2 - 5x + 3$$. *np.abs* apply because we need the absolute values of the given function. Answer that we get is the root of the function and then it will show the number of iterations or epoch ."
      ]
    },
    {
      "cell_type": "code",
      "metadata": {
        "colab": {
          "base_uri": "https://localhost:8080/"
        },
        "id": "sojfvs0iVTdv",
        "outputId": "53403827-77b7-40f9-e6ba-7c26afdb7b43"
      },
      "source": [
        "def f(x):\r\n",
        "    return 2*x**2 - 5*x + 3\r\n",
        "def secant(x0,x1,e,N):\r\n",
        "    step = 1\r\n",
        "    condition = True\r\n",
        "    while condition:\r\n",
        "        if f(x0) == f(x1):\r\n",
        "            print('Divide by zero error!')\r\n",
        "            break\r\n",
        "\r\n",
        "        x2 = x0 - (x1-x0)*f(x0)/( f(x1) - f(x0) ) \r\n",
        "        print('Iteration #%d, x2 = %0.6f and f(x2) = %0.6f' % (step, x2, f(x2)))\r\n",
        "        x0 = x1\r\n",
        "        x1 = x2\r\n",
        "        step = step + 1\r\n",
        "\r\n",
        "        condition = abs(f(x2)) > e\r\n",
        "    print('\\n Required root is: %0.8f' % x2)\r\n",
        "secant(x0,x1,e,N)\r\n"
      ],
      "execution_count": 23,
      "outputs": [
        {
          "output_type": "stream",
          "text": [
            "Iteration #1, x2 = 1.000000 and f(x2) = 0.000000\n",
            "\n",
            " Required root is: 1.00000000\n"
          ],
          "name": "stdout"
        }
      ]
    },
    {
      "cell_type": "markdown",
      "metadata": {
        "id": "h2kbDxg5UlBe"
      },
      "source": [
        "**About the codes**\r\n",
        "\r\n",
        "by A.D Buenaventura, M.A Catinoy and E.J Vergara © 2021\r\n",
        "\r\n",
        "\r\n",
        "In this activity, we are asked to create a program that can find the roots and iteration of an equation using Secant Method. The function that is defined which is $$f(x) = 2x^2 -5x + 3$$. The formula needed in using secant is $$ x2 = x0 - (x1-x0)*f(x0)/( f(x1) - f(x0) $$."
      ]
    },
    {
      "cell_type": "code",
      "metadata": {
        "colab": {
          "base_uri": "https://localhost:8080/"
        },
        "id": "Z5KI3yoHYsg_",
        "outputId": "b13df6d7-872c-4600-99b5-a30eaebe1d36"
      },
      "source": [
        "def f(x):\r\n",
        "    return 2*x**2 - 5*x + 3\r\n",
        "\r\n",
        "def falsePos(x0,x1,e):\r\n",
        "    step = 1\r\n",
        "    condition = True\r\n",
        "    while condition:\r\n",
        "        x2 = x0 - (x1-x0) * f(x0)/( f(x1) - f(x0) )\r\n",
        "        print('Iteration #%d, x2 = %0.6f and f(x2) = %0.6f' % (step, x2, f(x2)))\r\n",
        "\r\n",
        "        if f(x0) * f(x2) < 0:\r\n",
        "            x1 = x2\r\n",
        "        else:\r\n",
        "            x0 = x2\r\n",
        "\r\n",
        "        step = step + 1\r\n",
        "        condition = abs(f(x2)) > e\r\n",
        "\r\n",
        "    print('\\nRequired root is: %0.8f' % x2)\r\n",
        "falsePos(x0,x1,e)"
      ],
      "execution_count": 24,
      "outputs": [
        {
          "output_type": "stream",
          "text": [
            "Iteration #1, x2 = 1.000000 and f(x2) = 0.000000\n",
            "\n",
            "Required root is: 1.00000000\n"
          ],
          "name": "stdout"
        }
      ]
    },
    {
      "cell_type": "markdown",
      "metadata": {
        "id": "ENNDLB8qQVNd"
      },
      "source": [
        "**About the codes**\r\n",
        "\r\n",
        "by A.D Buenaventura, M.A Catinoy and E.J Vergara © 2021\r\n",
        "\r\n",
        "In this coding activity for the Regula Falsi Method the program is about calculating the guess values with the define function of $$x = 2x^2 - 5x + 3$$.\r\n",
        "The formula use for Regula Falsi method is  $$x2 = x0 - (x1-x0) * f(x0)/( f(x1) - f(x0) )$$.\r\n",
        "\r\n"
      ]
    }
  ]
}