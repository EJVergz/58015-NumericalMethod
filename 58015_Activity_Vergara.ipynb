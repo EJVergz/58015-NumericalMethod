{
  "nbformat": 4,
  "nbformat_minor": 0,
  "metadata": {
    "colab": {
      "name": "58015-Activity-Vergara.ipynb",
      "provenance": [],
      "collapsed_sections": [],
      "authorship_tag": "ABX9TyPcnWECihRl2elHSUsw7Tif",
      "include_colab_link": true
    },
    "kernelspec": {
      "name": "python3",
      "display_name": "Python 3"
    }
  },
  "cells": [
    {
      "cell_type": "markdown",
      "metadata": {
        "id": "view-in-github",
        "colab_type": "text"
      },
      "source": [
        "<a href=\"https://colab.research.google.com/github/EJVergz/58015-NumericalMethod/blob/main/58015_Activity_Vergara.ipynb\" target=\"_parent\"><img src=\"https://colab.research.google.com/assets/colab-badge.svg\" alt=\"Open In Colab\"/></a>"
      ]
    },
    {
      "cell_type": "code",
      "metadata": {
        "colab": {
          "base_uri": "https://localhost:8080/"
        },
        "id": "3eQ6vFSyKOFt",
        "outputId": "03768616-7431-4a8a-dd2a-aa8472da19ee"
      },
      "source": [
        "\r\n",
        "\r\n",
        "\r\n",
        "stud_name = input(\"Student Name: \" )\r\n",
        "course = input(\"Course: \" )\r\n",
        "pg = float(input(\"Prelim Grade: \" ))\r\n",
        "mg = float(input(\"Midterm Grade: \" ))\r\n",
        "fg = float(input(\"Final Grade: \"))\r\n",
        "prelim = pg*(30/100)\r\n",
        "midterm = mg*(30/100)\r\n",
        "finals = fg*(40/100)\r\n",
        "sem_grade = prelim+midterm+finals\r\n",
        "sg = round(sem_grade,2)\r\n",
        "print(\"Hello {}, your semestral grade is: {}\".format(stud_name, sg))\r\n",
        "if(sg>70):\r\n",
        "    print(\"\\U0001F600\")\r\n",
        "elif(sg<70):\r\n",
        "    print(\"\\U0001F619\")   \r\n",
        "else:\r\n",
        "    print(\"\\U0001F923\")"
      ],
      "execution_count": 3,
      "outputs": [
        {
          "output_type": "stream",
          "text": [
            "Student Name: ej\n",
            "Course: cpe\n",
            "Prelim Grade: 70\n",
            "Midterm Grade: 80\n",
            "Final Grade: 60\n",
            "Hello ej, your semestral grade is: 69.0\n",
            "😙\n"
          ],
          "name": "stdout"
        }
      ]
    }
  ]
}