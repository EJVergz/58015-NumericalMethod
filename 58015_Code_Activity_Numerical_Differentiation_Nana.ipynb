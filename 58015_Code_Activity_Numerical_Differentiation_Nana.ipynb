{
  "nbformat": 4,
  "nbformat_minor": 0,
  "metadata": {
    "colab": {
      "name": "58015_Code Activity: Numerical Differentiation_Nana.ipynb",
      "provenance": [],
      "include_colab_link": true
    },
    "kernelspec": {
      "name": "python3",
      "display_name": "Python 3"
    },
    "language_info": {
      "name": "python"
    }
  },
  "cells": [
    {
      "cell_type": "markdown",
      "metadata": {
        "id": "view-in-github",
        "colab_type": "text"
      },
      "source": [
        "<a href=\"https://colab.research.google.com/github/EJVergz/58015-NumericalMethod/blob/main/58015_Code_Activity_Numerical_Differentiation_Nana.ipynb\" target=\"_parent\"><img src=\"https://colab.research.google.com/assets/colab-badge.svg\" alt=\"Open In Colab\"/></a>"
      ]
    },
    {
      "cell_type": "markdown",
      "metadata": {
        "id": "LtKq1BgLWxwB"
      },
      "source": [
        "#**Code Activity: Numerical Differentiation**\n",
        "*© A.D Buenaventura, M.A Catinoy, & E.J Vergara*"
      ]
    },
    {
      "cell_type": "code",
      "metadata": {
        "id": "usauT2otMhne"
      },
      "source": [
        "import numpy as np\n",
        "import matplotlib.pyplot as plt\n",
        "import sympy as sy\n",
        "from math import cos, e\n",
        "from scipy.misc import derivative\n",
        "from scipy.special import binom, factorial\n",
        "from sympy import *\n",
        "from sympy.functions import sin,cos"
      ],
      "execution_count": 2,
      "outputs": []
    },
    {
      "cell_type": "code",
      "metadata": {
        "id": "rlehfxo7Mqy-"
      },
      "source": [
        "binom_coeffs = binom_coeffs = lambda n : np.asarray([binom(n,k) for k in range(n+1)])"
      ],
      "execution_count": null,
      "outputs": []
    },
    {
      "cell_type": "code",
      "metadata": {
        "id": "2jGziejTMsM-"
      },
      "source": [
        "x = 0.1\n",
        "dx = 0.05"
      ],
      "execution_count": null,
      "outputs": []
    },
    {
      "cell_type": "code",
      "metadata": {
        "colab": {
          "base_uri": "https://localhost:8080/",
          "height": 132
        },
        "id": "EUStlKwvOC6j",
        "outputId": "e300ec8b-ad34-4fb1-c2b3-13f99bb99222"
      },
      "source": [
        "def diff_cen(f,x,dx,degree):\n",
        "  f_ans = f(x+(np.arange((degree/2), -((degree/2)+1), -1)*dx)\n",
        "  bin = binom_coeffs(degree)\n",
        "  bin[1::2] *= -1\n",
        "  diff = (bin @ f_ans) / dx**degree\n",
        "  return diff"
      ],
      "execution_count": null,
      "outputs": [
        {
          "output_type": "error",
          "ename": "SyntaxError",
          "evalue": "ignored",
          "traceback": [
            "\u001b[0;36m  File \u001b[0;32m\"<ipython-input-35-226c79632d84>\"\u001b[0;36m, line \u001b[0;32m3\u001b[0m\n\u001b[0;31m    bin = binom_coeffs(degree)\u001b[0m\n\u001b[0m      ^\u001b[0m\n\u001b[0;31mSyntaxError\u001b[0m\u001b[0;31m:\u001b[0m invalid syntax\n"
          ]
        }
      ]
    },
    {
      "cell_type": "code",
      "metadata": {
        "colab": {
          "base_uri": "https://localhost:8080/"
        },
        "id": "Mic7WaoZUUKq",
        "outputId": "0fb9b733-28c2-459d-dfcb-318e7ba09d1c"
      },
      "source": [
        "diff_cen(f, 0.1, 0.05, 1)"
      ],
      "execution_count": null,
      "outputs": [
        {
          "output_type": "execute_result",
          "data": {
            "text/plain": [
              "-0.4774999999999996"
            ]
          },
          "metadata": {
            "tags": []
          },
          "execution_count": 36
        }
      ]
    },
    {
      "cell_type": "markdown",
      "metadata": {
        "id": "95ZbTVHKP0FI"
      },
      "source": [
        "#**Forward Finite Differentiation**"
      ]
    },
    {
      "cell_type": "code",
      "metadata": {
        "id": "V4uZ7cx7P-_W"
      },
      "source": [
        "def diff_fwd(f,x,dx,degree=2):\n",
        " f_ans = f(x+((np.arange(degree,-1,-1))*dx))\n",
        " bin = binom_coeffs(degree)\n",
        " bin[1::2] *= -1\n",
        " diff = (bin @ f_ans) / dx**degree \n",
        " return diff"
      ],
      "execution_count": null,
      "outputs": []
    },
    {
      "cell_type": "markdown",
      "metadata": {
        "id": "0PLDKa7uQFov"
      },
      "source": [
        "#**Backward Finite**"
      ]
    },
    {
      "cell_type": "code",
      "metadata": {
        "id": "o0QKnRwSQK5h"
      },
      "source": [
        "def diff_bwd(f,x,dx,degree=1):\n",
        " f_ans = f(x+(np.arange(0,-(degree+1),-1))*dx)\n",
        " bin = binom_coeffs(degree)\n",
        " bin[1::2] *= -1\n",
        " diff = (bin @ f_ans) / dx**degree\n",
        " return diff"
      ],
      "execution_count": null,
      "outputs": []
    },
    {
      "cell_type": "markdown",
      "metadata": {
        "id": "84Igk5iORiql"
      },
      "source": [
        "#**Comparison**"
      ]
    },
    {
      "cell_type": "markdown",
      "metadata": {
        "id": "7yij0eMSSC1i"
      },
      "source": [
        "**y1 function**"
      ]
    },
    {
      "cell_type": "code",
      "metadata": {
        "colab": {
          "base_uri": "https://localhost:8080/"
        },
        "id": "o4FpOypORomU",
        "outputId": "3dddbd41-92d0-4647-ad95-51ff49fd5711"
      },
      "source": [
        "ans = diff_fwd(y1,x,dx,1)\n",
        "ans_1 = diff_fwd(y1,x,dx,2)\n",
        "ans_2 = diff_fwd(y1,x,dx,3)\n",
        "\n",
        "error = abs(ans - y1_1(x))\n",
        "error_1 = abs(ans - y1_2(x))\n",
        "error_2 = abs(ans - y1_3(x))\n",
        "print(f'Answer (1st Degree): {ans}, Error: {error}')\n",
        "print(f'Answer (2nd Degree): {ans_1}, Error: {error_1}')\n",
        "print(f'Answer (3rd Degree): {ans_2}, Error: {error_2}')"
      ],
      "execution_count": null,
      "outputs": [
        {
          "output_type": "stream",
          "text": [
            "Answer (1st Degree): -0.4499158496124789, Error: 0.0532134719020066\n",
            "Answer (2nd Degree): 2.1039516581967006, Error: 2.57018491683887\n",
            "Answer (3rd Degree): -1.9844013152638946, Error: 1.72979100583142\n"
          ],
          "name": "stdout"
        }
      ]
    },
    {
      "cell_type": "code",
      "metadata": {
        "colab": {
          "base_uri": "https://localhost:8080/"
        },
        "id": "C5ANb3VVR1v3",
        "outputId": "ad0fd1f4-23d0-41c9-864e-933beb20a82a"
      },
      "source": [
        "ans = diff_bwd(y1,x,dx,1)\n",
        "ans_1 = diff_bwd(y1,x,dx,2)\n",
        "ans_2 = diff_bwd(y1,x,dx,3)\n",
        "\n",
        "error = abs(ans - y1_1(x))\n",
        "error_1 = abs(ans - y1_2(x))\n",
        "error_2 = abs(ans - y1_3(x))\n",
        "\n",
        "print(f'Answer (1st Degree): {ans}, Error: {error}')\n",
        "print(f'Answer (2nd Degree): {ans_1}, Error: {error_1}')\n",
        "print(f'Answer (3rd Degree): {ans_2}, Error: {error_2}')"
      ],
      "execution_count": null,
      "outputs": [
        {
          "output_type": "stream",
          "text": [
            "Answer (1st Degree): -0.5551914719430662, Error: 0.0520621504285806\n",
            "Answer (2nd Degree): 1.9250486230014459, Error: 2.67546053916946\n",
            "Answer (3rd Degree): 9.635605341683727, Error: 1.83506662816201\n"
          ],
          "name": "stdout"
        }
      ]
    },
    {
      "cell_type": "code",
      "metadata": {
        "colab": {
          "base_uri": "https://localhost:8080/",
          "height": 356
        },
        "id": "jLibyy7gR90M",
        "outputId": "06cad324-58c1-4dcf-d2f1-6752c8ac7add"
      },
      "source": [
        "ans = diff_cen(y1, x, dx, 1)\n",
        "ans_1 = diff_cen(y1,x,dx,2)\n",
        "ans_2 = diff_cen(y1,x,dx,3)\n",
        "\n",
        "error = abs(ans - y1_1(x))\n",
        "error_1 = abs(ans - y1_2(x))\n",
        "error_2 = abs(ans - y1_3(x))\n",
        "\n",
        "print(f'Answer (1st Degree): {ans}, Error Approximation: {error}')\n",
        "print(f'Answer (2nd Degree): {ans_1}, Error Approximation: {error_1}')\n",
        "print(f'Answer (3rd Degree): {ans_2}, Error Approximation: {error_2}')"
      ],
      "execution_count": null,
      "outputs": [
        {
          "output_type": "error",
          "ename": "ValueError",
          "evalue": "ignored",
          "traceback": [
            "\u001b[0;31m---------------------------------------------------------------------------\u001b[0m",
            "\u001b[0;31mValueError\u001b[0m                                Traceback (most recent call last)",
            "\u001b[0;32m<ipython-input-45-6539c1a0d2c7>\u001b[0m in \u001b[0;36m<module>\u001b[0;34m()\u001b[0m\n\u001b[1;32m      1\u001b[0m \u001b[0mans\u001b[0m \u001b[0;34m=\u001b[0m \u001b[0mdiff_cen\u001b[0m\u001b[0;34m(\u001b[0m\u001b[0my1\u001b[0m\u001b[0;34m,\u001b[0m \u001b[0mx\u001b[0m\u001b[0;34m,\u001b[0m \u001b[0mdx\u001b[0m\u001b[0;34m,\u001b[0m \u001b[0;36m1\u001b[0m\u001b[0;34m)\u001b[0m\u001b[0;34m\u001b[0m\u001b[0;34m\u001b[0m\u001b[0m\n\u001b[0;32m----> 2\u001b[0;31m \u001b[0mans_1\u001b[0m \u001b[0;34m=\u001b[0m \u001b[0mdiff_cen\u001b[0m\u001b[0;34m(\u001b[0m\u001b[0my1\u001b[0m\u001b[0;34m,\u001b[0m\u001b[0mx\u001b[0m\u001b[0;34m,\u001b[0m\u001b[0mdx\u001b[0m\u001b[0;34m,\u001b[0m\u001b[0;36m2\u001b[0m\u001b[0;34m)\u001b[0m\u001b[0;34m\u001b[0m\u001b[0;34m\u001b[0m\u001b[0m\n\u001b[0m\u001b[1;32m      3\u001b[0m \u001b[0mans_2\u001b[0m \u001b[0;34m=\u001b[0m \u001b[0mdiff_cen\u001b[0m\u001b[0;34m(\u001b[0m\u001b[0my1\u001b[0m\u001b[0;34m,\u001b[0m\u001b[0mx\u001b[0m\u001b[0;34m,\u001b[0m\u001b[0mdx\u001b[0m\u001b[0;34m,\u001b[0m\u001b[0;36m3\u001b[0m\u001b[0;34m)\u001b[0m\u001b[0;34m\u001b[0m\u001b[0;34m\u001b[0m\u001b[0m\n\u001b[1;32m      4\u001b[0m \u001b[0;34m\u001b[0m\u001b[0m\n\u001b[1;32m      5\u001b[0m \u001b[0merror\u001b[0m \u001b[0;34m=\u001b[0m \u001b[0mabs\u001b[0m\u001b[0;34m(\u001b[0m\u001b[0mans\u001b[0m \u001b[0;34m-\u001b[0m \u001b[0my1_1\u001b[0m\u001b[0;34m(\u001b[0m\u001b[0mx\u001b[0m\u001b[0;34m)\u001b[0m\u001b[0;34m)\u001b[0m\u001b[0;34m\u001b[0m\u001b[0;34m\u001b[0m\u001b[0m\n",
            "\u001b[0;32m<ipython-input-23-cb74a7257dff>\u001b[0m in \u001b[0;36mdiff_cen\u001b[0;34m(f, x, dx, degree)\u001b[0m\n\u001b[1;32m      9\u001b[0m  \u001b[0mbin\u001b[0m \u001b[0;34m=\u001b[0m \u001b[0mbinom_coeffs\u001b[0m\u001b[0;34m(\u001b[0m\u001b[0mdegree\u001b[0m\u001b[0;34m)\u001b[0m\u001b[0;34m\u001b[0m\u001b[0;34m\u001b[0m\u001b[0m\n\u001b[1;32m     10\u001b[0m  \u001b[0mbin\u001b[0m\u001b[0;34m[\u001b[0m\u001b[0;36m1\u001b[0m\u001b[0;34m:\u001b[0m\u001b[0;34m:\u001b[0m\u001b[0;36m2\u001b[0m\u001b[0;34m]\u001b[0m \u001b[0;34m*=\u001b[0m \u001b[0;34m-\u001b[0m\u001b[0;36m1\u001b[0m\u001b[0;34m\u001b[0m\u001b[0;34m\u001b[0m\u001b[0m\n\u001b[0;32m---> 11\u001b[0;31m  \u001b[0mdiff\u001b[0m \u001b[0;34m=\u001b[0m \u001b[0;34m(\u001b[0m\u001b[0mbin\u001b[0m \u001b[0;34m@\u001b[0m \u001b[0mf_ans\u001b[0m\u001b[0;34m)\u001b[0m \u001b[0;34m/\u001b[0m \u001b[0mdx\u001b[0m \u001b[0;34m**\u001b[0m \u001b[0mdegree\u001b[0m\u001b[0;34m\u001b[0m\u001b[0;34m\u001b[0m\u001b[0m\n\u001b[0m\u001b[1;32m     12\u001b[0m  \u001b[0;32mreturn\u001b[0m \u001b[0mdiff\u001b[0m\u001b[0;34m\u001b[0m\u001b[0;34m\u001b[0m\u001b[0m\n",
            "\u001b[0;31mValueError\u001b[0m: matmul: Input operand 1 has a mismatch in its core dimension 0, with gufunc signature (n?,k),(k,m?)->(n?,m?) (size 2 is different from 3)"
          ]
        }
      ]
    },
    {
      "cell_type": "markdown",
      "metadata": {
        "id": "_HAMjUiCSHUZ"
      },
      "source": [
        "**y2 function**"
      ]
    },
    {
      "cell_type": "code",
      "metadata": {
        "colab": {
          "base_uri": "https://localhost:8080/"
        },
        "id": "YawcuKhWSJON",
        "outputId": "af21c010-2f81-45ad-de45-6d13b247209b"
      },
      "source": [
        "ans = diff_fwd(y2,x,dx,1)\n",
        "ans_1 = diff_fwd(y2,x,dx,2)\n",
        "ans_2 = diff_fwd(y2,x,dx,3)\n",
        "\n",
        "error = abs(ans - y2_1(x))\n",
        "error_1 = abs(ans - y2_2(x))\n",
        "error_2 = abs(ans - y2_3(x))\n",
        "\n",
        "print(f'Answer (1st Degree): {ans}, Error: {error}')\n",
        "print(f'Answer (2nd Degree): {ans_1}, Error: {error_1}')\n",
        "print(f'Answer (3rd Degree): {ans_2}, Error: {error_2}')"
      ],
      "execution_count": null,
      "outputs": [
        {
          "output_type": "stream",
          "text": [
            "Answer (1st Degree): -2.0403524222379854, Error: 0.0155522544919000\n",
            "Answer (2nd Degree): -0.7524194627601232, Error: 1.49500912318495\n",
            "Answer (3rd Degree): -2.9048000785465424, Error: 2.92013895602538\n"
          ],
          "name": "stdout"
        }
      ]
    },
    {
      "cell_type": "code",
      "metadata": {
        "colab": {
          "base_uri": "https://localhost:8080/"
        },
        "id": "DdIgqfOzSOxn",
        "outputId": "9c0c1007-4476-4622-a93b-cdaac7be62df"
      },
      "source": [
        "ans = diff_bwd(y2,x,dx,1)\n",
        "ans_1 = diff_bwd(y2,x,dx,2)\n",
        "ans_2 = diff_bwd(y2,x,dx,3)\n",
        "\n",
        "error = abs(ans - y2_1(x))\n",
        "error_1 = abs(ans - y2_2(x))\n",
        "error_2 = abs(ans - y2_3(x))\n",
        "\n",
        "print(f'Answer (1st Degree): {ans}, Error: {error}')\n",
        "print(f'Answer (2nd Degree): {ans_1}, Error: {error_1}')\n",
        "print(f'Answer (3rd Degree): {ans_2}, Error: {error_2}')"
      ],
      "execution_count": null,
      "outputs": [
        {
          "output_type": "stream",
          "text": [
            "Answer (1st Degree): -2.013385047895242, Error: 0.0114151198508434\n",
            "Answer (2nd Degree): -0.2543342834989914, Error: 1.46804174884220\n",
            "Answer (3rd Degree): -7.220019011253241, Error: 2.94710633036812\n"
          ],
          "name": "stdout"
        }
      ]
    },
    {
      "cell_type": "code",
      "metadata": {
        "colab": {
          "base_uri": "https://localhost:8080/",
          "height": 329
        },
        "id": "O46FDnRMSRbL",
        "outputId": "35bb4e10-9e8c-426e-8766-f14b08da5ed3"
      },
      "source": [
        "ans = diff_cen(y2, x, dx, 1)\n",
        "ans1 = diff_cen(y2,x,dx,2)\n",
        "ans2 = diff_cen(y2,x,dx,3)\n",
        "\n",
        "error = abs(ans - y2_1(x))\n",
        "error_1 = abs(ans - y2_2(x))\n",
        "error_2 = abs(ans - y2_3(x))\n",
        "\n",
        "print(f'Answer (1st Degree): {ans}, Error: {error}')\n",
        "print(f'Answer (2nd Degree): {ans_1}, Error: {error_1}')\n",
        "print(f'Answer (3rd Degree): {ans_2}, Error: {error_2}')"
      ],
      "execution_count": null,
      "outputs": [
        {
          "output_type": "error",
          "ename": "ValueError",
          "evalue": "ignored",
          "traceback": [
            "\u001b[0;31m---------------------------------------------------------------------------\u001b[0m",
            "\u001b[0;31mValueError\u001b[0m                                Traceback (most recent call last)",
            "\u001b[0;32m<ipython-input-50-7b6ae7d4458a>\u001b[0m in \u001b[0;36m<module>\u001b[0;34m()\u001b[0m\n\u001b[1;32m      1\u001b[0m \u001b[0mans\u001b[0m \u001b[0;34m=\u001b[0m \u001b[0mdiff_cen\u001b[0m\u001b[0;34m(\u001b[0m\u001b[0my2\u001b[0m\u001b[0;34m,\u001b[0m \u001b[0mx\u001b[0m\u001b[0;34m,\u001b[0m \u001b[0mdx\u001b[0m\u001b[0;34m,\u001b[0m \u001b[0;36m1\u001b[0m\u001b[0;34m)\u001b[0m\u001b[0;34m\u001b[0m\u001b[0;34m\u001b[0m\u001b[0m\n\u001b[0;32m----> 2\u001b[0;31m \u001b[0mans1\u001b[0m \u001b[0;34m=\u001b[0m \u001b[0mdiff_cen\u001b[0m\u001b[0;34m(\u001b[0m\u001b[0my2\u001b[0m\u001b[0;34m,\u001b[0m\u001b[0mx\u001b[0m\u001b[0;34m,\u001b[0m\u001b[0mdx\u001b[0m\u001b[0;34m,\u001b[0m\u001b[0;36m2\u001b[0m\u001b[0;34m)\u001b[0m\u001b[0;34m\u001b[0m\u001b[0;34m\u001b[0m\u001b[0m\n\u001b[0m\u001b[1;32m      3\u001b[0m \u001b[0mans2\u001b[0m \u001b[0;34m=\u001b[0m \u001b[0mdiff_cen\u001b[0m\u001b[0;34m(\u001b[0m\u001b[0my2\u001b[0m\u001b[0;34m,\u001b[0m\u001b[0mx\u001b[0m\u001b[0;34m,\u001b[0m\u001b[0mdx\u001b[0m\u001b[0;34m,\u001b[0m\u001b[0;36m3\u001b[0m\u001b[0;34m)\u001b[0m\u001b[0;34m\u001b[0m\u001b[0;34m\u001b[0m\u001b[0m\n\u001b[1;32m      4\u001b[0m \u001b[0;34m\u001b[0m\u001b[0m\n\u001b[1;32m      5\u001b[0m \u001b[0merror\u001b[0m \u001b[0;34m=\u001b[0m \u001b[0mabs\u001b[0m\u001b[0;34m(\u001b[0m\u001b[0mans\u001b[0m \u001b[0;34m-\u001b[0m \u001b[0my2_1\u001b[0m\u001b[0;34m(\u001b[0m\u001b[0mx\u001b[0m\u001b[0;34m)\u001b[0m\u001b[0;34m)\u001b[0m\u001b[0;34m\u001b[0m\u001b[0;34m\u001b[0m\u001b[0m\n",
            "\u001b[0;32m<ipython-input-23-cb74a7257dff>\u001b[0m in \u001b[0;36mdiff_cen\u001b[0;34m(f, x, dx, degree)\u001b[0m\n\u001b[1;32m      9\u001b[0m  \u001b[0mbin\u001b[0m \u001b[0;34m=\u001b[0m \u001b[0mbinom_coeffs\u001b[0m\u001b[0;34m(\u001b[0m\u001b[0mdegree\u001b[0m\u001b[0;34m)\u001b[0m\u001b[0;34m\u001b[0m\u001b[0;34m\u001b[0m\u001b[0m\n\u001b[1;32m     10\u001b[0m  \u001b[0mbin\u001b[0m\u001b[0;34m[\u001b[0m\u001b[0;36m1\u001b[0m\u001b[0;34m:\u001b[0m\u001b[0;34m:\u001b[0m\u001b[0;36m2\u001b[0m\u001b[0;34m]\u001b[0m \u001b[0;34m*=\u001b[0m \u001b[0;34m-\u001b[0m\u001b[0;36m1\u001b[0m\u001b[0;34m\u001b[0m\u001b[0;34m\u001b[0m\u001b[0m\n\u001b[0;32m---> 11\u001b[0;31m  \u001b[0mdiff\u001b[0m \u001b[0;34m=\u001b[0m \u001b[0;34m(\u001b[0m\u001b[0mbin\u001b[0m \u001b[0;34m@\u001b[0m \u001b[0mf_ans\u001b[0m\u001b[0;34m)\u001b[0m \u001b[0;34m/\u001b[0m \u001b[0mdx\u001b[0m \u001b[0;34m**\u001b[0m \u001b[0mdegree\u001b[0m\u001b[0;34m\u001b[0m\u001b[0;34m\u001b[0m\u001b[0m\n\u001b[0m\u001b[1;32m     12\u001b[0m  \u001b[0;32mreturn\u001b[0m \u001b[0mdiff\u001b[0m\u001b[0;34m\u001b[0m\u001b[0;34m\u001b[0m\u001b[0m\n",
            "\u001b[0;31mValueError\u001b[0m: matmul: Input operand 1 has a mismatch in its core dimension 0, with gufunc signature (n?,k),(k,m?)->(n?,m?) (size 2 is different from 3)"
          ]
        }
      ]
    },
    {
      "cell_type": "markdown",
      "metadata": {
        "id": "tYYRcJpXWPh6"
      },
      "source": [
        "#**Taylor Expansion**"
      ]
    },
    {
      "cell_type": "code",
      "metadata": {
        "colab": {
          "base_uri": "https://localhost:8080/",
          "height": 235
        },
        "id": "7dDFZrISWWKR",
        "outputId": "74557cf2-f3c6-4fc5-c050-08416f8099df"
      },
      "source": [
        "f = ((4*x**2 + 2*x + 1) / (x + 2 * e**x)) ** x\n",
        "f_1 = np.cos(2*x) + (x**2/20) + e*(-2*x)\n",
        "x0 = np.pi * 2\n",
        "z = 7\n",
        "\n",
        "def factor(z):\n",
        "    if z <= 0:\n",
        "        return 1\n",
        "    else:\n",
        "        return z * factor(z - 1)\n",
        "\n",
        "def taylor(function, x0, z, x = sy.Symbol('x')):\n",
        "    a = 0\n",
        "    b = 0\n",
        "    while a <= z:\n",
        "        b = b + (function.diff(x, a).subs(x, x0))/(factor(a))*(x - x0)**a\n",
        "        a += 1\n",
        "    return b\n",
        "\n",
        "print(\"Equation 1: \")\n",
        "for m in range(1, z + 1, 2):\n",
        "        func = taylor(f, x0, m)\n",
        "        taylor_lambda = sy.lambdify(x, func, \"numpy\")\n",
        "        print('Taylor Series Expansion at z=' + str(m), func)\n",
        "\n",
        "print(\"\\nEquation 2: \")\n",
        "for m in range(1, z + 1, 2):\n",
        "        func = taylor(f1, x0, m)\n",
        "        taylor_lambda = sy.lambdify(x, func, \"numpy\")\n",
        "        print('Taylor Series Expansion at z=' + str(m), func)"
      ],
      "execution_count": 1,
      "outputs": [
        {
          "output_type": "error",
          "ename": "NameError",
          "evalue": "ignored",
          "traceback": [
            "\u001b[0;31m---------------------------------------------------------------------------\u001b[0m",
            "\u001b[0;31mNameError\u001b[0m                                 Traceback (most recent call last)",
            "\u001b[0;32m<ipython-input-1-92400e5ca586>\u001b[0m in \u001b[0;36m<module>\u001b[0;34m()\u001b[0m\n\u001b[0;32m----> 1\u001b[0;31m \u001b[0mf\u001b[0m \u001b[0;34m=\u001b[0m \u001b[0;34m(\u001b[0m\u001b[0;34m(\u001b[0m\u001b[0;36m4\u001b[0m\u001b[0;34m*\u001b[0m\u001b[0mx\u001b[0m\u001b[0;34m**\u001b[0m\u001b[0;36m2\u001b[0m \u001b[0;34m+\u001b[0m \u001b[0;36m2\u001b[0m\u001b[0;34m*\u001b[0m\u001b[0mx\u001b[0m \u001b[0;34m+\u001b[0m \u001b[0;36m1\u001b[0m\u001b[0;34m)\u001b[0m \u001b[0;34m/\u001b[0m \u001b[0;34m(\u001b[0m\u001b[0mx\u001b[0m \u001b[0;34m+\u001b[0m \u001b[0;36m2\u001b[0m \u001b[0;34m*\u001b[0m \u001b[0me\u001b[0m\u001b[0;34m**\u001b[0m\u001b[0mx\u001b[0m\u001b[0;34m)\u001b[0m\u001b[0;34m)\u001b[0m \u001b[0;34m**\u001b[0m \u001b[0mx\u001b[0m\u001b[0;34m\u001b[0m\u001b[0;34m\u001b[0m\u001b[0m\n\u001b[0m\u001b[1;32m      2\u001b[0m \u001b[0mf_1\u001b[0m \u001b[0;34m=\u001b[0m \u001b[0mnp\u001b[0m\u001b[0;34m.\u001b[0m\u001b[0mcos\u001b[0m\u001b[0;34m(\u001b[0m\u001b[0;36m2\u001b[0m\u001b[0;34m*\u001b[0m\u001b[0mx\u001b[0m\u001b[0;34m)\u001b[0m \u001b[0;34m+\u001b[0m \u001b[0;34m(\u001b[0m\u001b[0mx\u001b[0m\u001b[0;34m**\u001b[0m\u001b[0;36m2\u001b[0m\u001b[0;34m/\u001b[0m\u001b[0;36m20\u001b[0m\u001b[0;34m)\u001b[0m \u001b[0;34m+\u001b[0m \u001b[0me\u001b[0m\u001b[0;34m*\u001b[0m\u001b[0;34m(\u001b[0m\u001b[0;34m-\u001b[0m\u001b[0;36m2\u001b[0m\u001b[0;34m*\u001b[0m\u001b[0mx\u001b[0m\u001b[0;34m)\u001b[0m\u001b[0;34m\u001b[0m\u001b[0;34m\u001b[0m\u001b[0m\n\u001b[1;32m      3\u001b[0m \u001b[0mx0\u001b[0m \u001b[0;34m=\u001b[0m \u001b[0mnp\u001b[0m\u001b[0;34m.\u001b[0m\u001b[0mpi\u001b[0m \u001b[0;34m*\u001b[0m \u001b[0;36m2\u001b[0m\u001b[0;34m\u001b[0m\u001b[0;34m\u001b[0m\u001b[0m\n\u001b[1;32m      4\u001b[0m \u001b[0mz\u001b[0m \u001b[0;34m=\u001b[0m \u001b[0;36m7\u001b[0m\u001b[0;34m\u001b[0m\u001b[0;34m\u001b[0m\u001b[0m\n\u001b[1;32m      5\u001b[0m \u001b[0;34m\u001b[0m\u001b[0m\n",
            "\u001b[0;31mNameError\u001b[0m: name 'x' is not defined"
          ]
        }
      ]
    },
    {
      "cell_type": "code",
      "metadata": {
        "colab": {
          "base_uri": "https://localhost:8080/",
          "height": 386
        },
        "id": "XOILE97JX4cM",
        "outputId": "220b3e4c-dd93-4c5f-d6e2-2f7be99c764f"
      },
      "source": [
        "x = np.linspace(-np.pi, np.pi, 200)\n",
        "y = np.zeros(len(x))\n",
        "y1 = ((4*x**2 + 2*x + 1) / (x + 2 * np.exp(x))) ** x\n",
        "y2 = np.cos(2*x) + (x**2/20) + np.exp(-2*x)\n",
        "\n",
        "\n",
        "labels = ['1st Order', '3rd Order', '5th Order', '7nth Order']\n",
        "\n",
        "plt.figure(figsize = (8,5))\n",
        "\n",
        "for n, label in zip(range(4), labels):\n",
        "    y = y + ((-1)**n * (x)**(2*n+1)) / np.math.factorial(2*n+1)\n",
        "    plt.plot(x,y, label = label)\n",
        "\n",
        "plt.plot(x, y1, 'k', label = 'Analytic')\n",
        "plt.grid()\n",
        "plt.title('Taylor Series')\n",
        "plt.xlabel('x')\n",
        "plt.ylabel('y')\n",
        "plt.legend()\n",
        "plt.show()"
      ],
      "execution_count": null,
      "outputs": [
        {
          "output_type": "stream",
          "text": [
            "/usr/local/lib/python3.7/dist-packages/ipykernel_launcher.py:3: RuntimeWarning: invalid value encountered in power\n",
            "  This is separate from the ipykernel package so we can avoid doing imports until\n"
          ],
          "name": "stderr"
        },
        {
          "output_type": "display_data",
          "data": {
            "image/png": "[encoded data removed]",
            "text/plain": [
              "<Figure size 576x360 with 1 Axes>"
            ]
          },
          "metadata": {
            "tags": [],
            "needs_background": "light"
          }
        }
      ]
    },
    {
      "cell_type": "code",
      "metadata": {
        "colab": {
          "base_uri": "https://localhost:8080/",
          "height": 386
        },
        "id": "MGj0Dv9rYFfF",
        "outputId": "c5fd090b-6dd8-4b4e-d28c-d0de71763afa"
      },
      "source": [
        "x = np.linspace(-np.pi, np.pi, 200)\n",
        "y = np.zeros(len(x))\n",
        "y1 = ((4*x**2 + 2*x + 1) / (x + 2 * np.exp(x))) ** x\n",
        "y2 = np.cos(2*x) + (x**2/20) + np.exp(-2*x)\n",
        "\n",
        "\n",
        "labels = ['1st Order', '3rd Order', '5th Order', '7nth Order']\n",
        "\n",
        "plt.figure(figsize = (8,5))\n",
        "\n",
        "for n, label in zip(range(4), labels):\n",
        "    y = y + ((-1)**n * (x)**(2*n+1)) / np.math.factorial(2*n+1)\n",
        "    plt.plot(x,y, label = label)\n",
        "\n",
        "plt.plot(x, y2, 'k', label = 'Analytic')\n",
        "plt.grid()\n",
        "plt.title('Taylor Series')\n",
        "plt.xlabel('x')\n",
        "plt.ylabel('y')\n",
        "plt.legend()\n",
        "plt.show()"
      ],
      "execution_count": null,
      "outputs": [
        {
          "output_type": "stream",
          "text": [
            "/usr/local/lib/python3.7/dist-packages/ipykernel_launcher.py:3: RuntimeWarning: invalid value encountered in power\n",
            "  This is separate from the ipykernel package so we can avoid doing imports until\n"
          ],
          "name": "stderr"
        },
        {
          "output_type": "display_data",
          "data": {
            "image/png": "[encoded data removed]",
            "text/plain": [
              "<Figure size 576x360 with 1 Axes>"
            ]
          },
          "metadata": {
            "tags": [],
            "needs_background": "light"
          }
        }
      ]
    }
  ]
}