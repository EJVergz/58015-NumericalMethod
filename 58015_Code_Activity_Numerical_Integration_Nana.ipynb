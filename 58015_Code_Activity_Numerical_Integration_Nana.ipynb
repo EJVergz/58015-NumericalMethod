{
  "nbformat": 4,
  "nbformat_minor": 0,
  "metadata": {
    "colab": {
      "name": "58015_Code Activity: Numerical Integration_Nana.ipynb",
      "provenance": [],
      "collapsed_sections": [],
      "authorship_tag": "ABX9TyO033/IKdf58KisHvSpritj",
      "include_colab_link": true
    },
    "kernelspec": {
      "name": "python3",
      "display_name": "Python 3"
    },
    "language_info": {
      "name": "python"
    }
  },
  "cells": [
    {
      "cell_type": "markdown",
      "metadata": {
        "id": "view-in-github",
        "colab_type": "text"
      },
      "source": [
        "<a href=\"https://colab.research.google.com/github/EJVergz/58015-NumericalMethod/blob/main/58015_Code_Activity_Numerical_Integration_Nana.ipynb\" target=\"_parent\"><img src=\"https://colab.research.google.com/assets/colab-badge.svg\" alt=\"Open In Colab\"/></a>"
      ]
    },
    {
      "cell_type": "markdown",
      "metadata": {
        "id": "RwSM61RxOafA"
      },
      "source": [
        "#**Code Activity: Numerical Integration**\n",
        "*© A.D Buenaventura, M.A Catinoy & E.J Vergara*"
      ]
    },
    {
      "cell_type": "code",
      "metadata": {
        "id": "3ijYbT1bTMf0"
      },
      "source": [
        "import numpy as np\n",
        "from sympy import *\n",
        "from scipy import random\n",
        "import scipy.integrate as integrate\n",
        "import matplotlib.pyplot as plt"
      ],
      "execution_count": 56,
      "outputs": []
    },
    {
      "cell_type": "markdown",
      "metadata": {
        "id": "mSR3wB4Ck2w9"
      },
      "source": [
        "#**1.**"
      ]
    },
    {
      "cell_type": "code",
      "metadata": {
        "colab": {
          "base_uri": "https://localhost:8080/",
          "height": 0
        },
        "id": "qOJTFaVkl0bl",
        "outputId": "642ae481-14c0-4daf-88ba-012d969ae006"
      },
      "source": [
        "integrate"
      ],
      "execution_count": 38,
      "outputs": [
        {
          "output_type": "execute_result",
          "data": {
            "text/plain": [
              "<module 'scipy.integrate' from '/usr/local/lib/python3.7/dist-packages/scipy/integrate/__init__.py'>"
            ]
          },
          "metadata": {
            "tags": []
          },
          "execution_count": 38
        }
      ]
    },
    {
      "cell_type": "markdown",
      "metadata": {
        "id": "-dvBwln0lsBf"
      },
      "source": [
        "[[1]](https://docs.scipy.org/doc/scipy/reference/tutorial/integrate.htmlhttps://) help(integrate)\n",
        "\n",
        "Methods for Integrating Functions given function object.\n",
        "\n",
        "   quad          -- General purpose integration.\n",
        "\n",
        "   dblquad       -- General purpose double integration.\n",
        "\n",
        "   tplquad       -- General purpose triple integration.\n",
        "\n",
        "   fixed_quad    -- Integrate func(x) using Gaussian quadrature of order n.\n",
        "\n",
        "   quadrature    -- Integrate with given tolerance using Gaussian quadrature.\n",
        "\n",
        "   romberg       -- Integrate func using Romberg integration.\n",
        "#Methods for Integrating Functions given fixed samples.\n",
        "\n",
        "   trapezoid            -- Use trapezoidal rule to compute integral.\n",
        "\n",
        "   cumulative_trapezoid -- Use trapezoidal rule to cumulatively compute integral.\n",
        "\n",
        "   simps                -- Use Simpson's rule to compute integral from samples.\n",
        "\n",
        "   romb                 -- Use Romberg Integration to compute integral from\n",
        "                        -- (2**k + 1) evenly-spaced samples.\n",
        "\n",
        "   See the special module's orthogonal polynomials (special) for Gaussian\n",
        "      quadrature roots and weights for other weighting factors and regions.\n",
        "\n",
        " Interface to numerical integrators of ODE systems.\n",
        "\n",
        "   odeint        -- General integration of ordinary differential equations.\n",
        "\n",
        "   ode           -- Integrate ODE using VODE and ZVODE routines."
      ]
    },
    {
      "cell_type": "markdown",
      "metadata": {
        "id": "FLtFIaKXnK8Q"
      },
      "source": [
        "General integration (quad)\n",
        "The scipy function quad is provided to integrate a function of one variable between two points. The points can be $\\pm\\infty$ ($\\pm$ np.infty) to indicate infinite limits. For example, suppose you wish to integrate the following:\n",
        "\n",
        "$$\n",
        "I = \\int_0^{2\\pi} e^{-x}\\sin(x)dx\n",
        "$$\n",
        "This could be computed using quad as:"
      ]
    },
    {
      "cell_type": "code",
      "metadata": {
        "colab": {
          "base_uri": "https://localhost:8080/",
          "height": 0
        },
        "id": "YmoaNp4LnMoh",
        "outputId": "eae15108-1ff7-462f-fc22-9b5ef62cd542"
      },
      "source": [
        "fun = lambda x : np.exp(-x)*np.sin(x) \n",
        "\n",
        "result,error = integrate.quad(fun, 0, 2*np.pi) \n",
        "\n",
        "print(result,error)"
      ],
      "execution_count": 40,
      "outputs": [
        {
          "output_type": "stream",
          "text": [
            "0.49906627863414593 6.023731631928322e-15\n"
          ],
          "name": "stdout"
        }
      ]
    },
    {
      "cell_type": "markdown",
      "metadata": {
        "id": "6vS21xc9naPM"
      },
      "source": [
        "The first argument to quad is a “callable” Python object (i.e a function, method, or class instance). Notice that we used a lambda function in this case as the argument. The next two arguments are the limits of integration. The return value is a tuple, with the first element holding the estimated value of the integral and the second element holding an upper bound on the error.\n",
        "\n",
        "The analytic solution to the integral is\n",
        "\n",
        "$$\n",
        "\\int_0^{2\\pi} e^{-x} \\sin(x) dx = \\frac{1}{2} -  e^{-2\\pi} \\simeq \\textrm{0.499066}\n",
        "$$\n",
        "so that is pretty good.\n",
        "\n",
        "Here it is again, integrated from 0 to infinity:"
      ]
    },
    {
      "cell_type": "code",
      "metadata": {
        "colab": {
          "base_uri": "https://localhost:8080/",
          "height": 0
        },
        "id": "kGIZyGkonfWn",
        "outputId": "05a0a36d-e2b0-477f-e618-de35eef50191"
      },
      "source": [
        "I = integrate.quad(fun, 0, np.infty)\n",
        "\n",
        "print(I)"
      ],
      "execution_count": 41,
      "outputs": [
        {
          "output_type": "stream",
          "text": [
            "(0.5000000000000002, 1.4875911973447031e-08)\n"
          ],
          "name": "stdout"
        }
      ]
    },
    {
      "cell_type": "markdown",
      "metadata": {
        "id": "4LNcEuDGngrm"
      },
      "source": [
        "In this case the analytic solution is exactly 1/2, so again pretty good.\n",
        "\n",
        "We can calculate the error in the result by looking at the difference between the exact result and the numerical value from quad with"
      ]
    },
    {
      "cell_type": "code",
      "metadata": {
        "colab": {
          "base_uri": "https://localhost:8080/",
          "height": 0
        },
        "id": "k9D-7zPsnlZl",
        "outputId": "61d52b3b-7487-4937-850e-e63ca1369b81"
      },
      "source": [
        "print(abs(I[0]-0.5))"
      ],
      "execution_count": 42,
      "outputs": [
        {
          "output_type": "stream",
          "text": [
            "2.220446049250313e-16\n"
          ],
          "name": "stdout"
        }
      ]
    },
    {
      "cell_type": "markdown",
      "metadata": {
        "id": "iUn8KTTznoXD"
      },
      "source": [
        "In this case, the numerically-computed integral is within $10^{-16}$ of the exact result — well below the reported error bound."
      ]
    },
    {
      "cell_type": "markdown",
      "metadata": {
        "id": "QnWgHROcoUzq"
      },
      "source": [
        "**Double integrals using dblquad**\n",
        "\n",
        "Suppose we want to integrate $f(x,y)=y\\sin(x)+x\\cos(y)$ over $\\pi \\le x \\le 2\\pi$ and $0 \\le y \\le \\pi$:\n",
        "\n",
        "$$\\int_{x=\\pi}^{2\\pi}\\int_{y=0}^{\\pi} y \\sin(x) + x \\cos(y) dxdy$$\n",
        "To use dblquad we have to provide callable functions for the range of the x-variable. Although here they are constants, the use of functions for the limits enables freedom to integrate over non-constant limits. In this case we create trivial lambda functions that return the constants. Note the order of the arguments in the integrand. If you put them in the wrong order you will get the wrong answer."
      ]
    },
    {
      "cell_type": "code",
      "metadata": {
        "colab": {
          "base_uri": "https://localhost:8080/",
          "height": 0
        },
        "id": "US57MkZWoZrh",
        "outputId": "b6a72beb-514a-4052-a832-1f08bdd32c0a"
      },
      "source": [
        "from scipy.integrate import dblquad\n",
        "\n",
        "integrand = lambda x,y: y * np.sin(x) + x * np.cos(y)\n",
        "\n",
        "ymin = 0\n",
        "ymax = np.pi\n",
        "\n",
        "xmin = lambda y : np.pi\n",
        "xmax = lambda y : 2*np.pi\n",
        "\n",
        "I, err = dblquad(integrand, ymin, ymax, xmin, xmax)\n",
        "print(I, err)"
      ],
      "execution_count": 43,
      "outputs": [
        {
          "output_type": "stream",
          "text": [
            "-9.869604401089354 3.8998131697641544e-13\n"
          ],
          "name": "stdout"
        }
      ]
    },
    {
      "cell_type": "markdown",
      "metadata": {
        "id": "bHFzGUdbojgL"
      },
      "source": [
        "**Triple integrals using tplquad**\n",
        "\n",
        "We can also numerically evaluate a triple integral:\n",
        "\n",
        "$$ \\int_{x=0}^{\\pi}\\int_{y=0}^{1}\\int_{z=-1}^{1} y\\sin(x)+z\\cos(x) dxdydz$$"
      ]
    },
    {
      "cell_type": "code",
      "metadata": {
        "colab": {
          "base_uri": "https://localhost:8080/",
          "height": 0
        },
        "id": "W5HNpNI_on-G",
        "outputId": "44e50d71-66ad-457e-f6a9-2b303210a3e2"
      },
      "source": [
        "from scipy.integrate import tplquad\n",
        "\n",
        "integrand = lambda x,y,z: y * np.sin(x) + z * np.cos(x)\n",
        "\n",
        "zmin = -1\n",
        "zmax = 1\n",
        "\n",
        "ymin = lambda z: 0\n",
        "ymax = lambda z: 1\n",
        "\n",
        "xmin = lambda y,z: 0\n",
        "xmax = lambda y,z: np.pi\n",
        "\n",
        "I, err = tplquad(integrand, zmin, zmax, ymin, ymax, xmin, xmax)\n",
        "print(I, err)"
      ],
      "execution_count": 45,
      "outputs": [
        {
          "output_type": "stream",
          "text": [
            "1.9999999999999998 3.1353718221552614e-14\n"
          ],
          "name": "stdout"
        }
      ]
    },
    {
      "cell_type": "markdown",
      "metadata": {
        "id": "XGA_WhvVnq-I"
      },
      "source": [
        "#**2.**"
      ]
    },
    {
      "cell_type": "code",
      "metadata": {
        "id": "EweoSmyVNZ7B"
      },
      "source": [
        "def f(x):\n",
        "\tf = lambda x: (4*x - 3)**3\n",
        "\treturn f \n",
        "\n",
        "def integral(a, b):\n",
        "\treturn (1/16)*((4*b-3)**4-(4*a-3)**4)\n",
        "\n",
        "def dx(w, x):\n",
        "\tif(w==1):\n",
        "\t\treturn 12*(4*x-3)\n",
        "\tif(w==2):\n",
        "\t\treturn 96*(4*x-3)\n",
        "\tif(w==3):\n",
        "\t\treturn 384\n",
        "\tif(w==4):\n",
        "\t\treturn 0\n",
        "\n",
        "def trapz_rule(f, a, b, n):\n",
        "\th = (b-a)/n\n",
        "\tarea = (f(a) + f(b))/2\n",
        "\tfor i in range(1, n):\n",
        "\t\tx = a + i*h;\n",
        "\t\tarea = area + f(x)\n",
        "\tarea = area*h\n",
        "\n",
        "\treturn area\n",
        "\n",
        "print(\"Using the Trapezoidal Rule\")\n",
        "print(\"\")\n",
        "\n",
        "for i in range(1, 50, 5):\n",
        "\ta = trapz_rule(f(\"x\"), -3, 5, i)\n",
        "\te = abs((integral(-3, 5) - a)/integral(-3, 5))*100    \n",
        "\ta = round(a, 4)\n",
        "\te = round(e, 4)\n",
        "\tprint(\"Approximation = \", a, \"Error = \", e, \"%\")\n",
        "\n",
        "print(\"\")\n",
        "print(\"Using the 1/3 Simpsons Rule\")\n",
        "\n",
        "print(\"\")\n",
        "\n",
        "def simp13(f, a, b, n):\n",
        "    approx = []\n",
        "    if a > b:\n",
        "        print(\"Incorrect bounds\")\n",
        "    if n%2:\n",
        "        print(\"Error: n must be even\")\n",
        "    else:\n",
        "        h = (b-a)/n\n",
        "        s = f(a) + f(b)\n",
        "        for i in range(1, n, 2):\n",
        "            s += 4*f(a + i*h)\n",
        "            k = (s*h)/3\n",
        "        for j in range(2, n-1, 2):\n",
        "            s += 2*f(a + i*h)\n",
        "            k = (s*h)/3\n",
        "        approx = (s*h)/3\n",
        "    return approx\n",
        "\n",
        "r = simp13(f(\"x\"), -3, 5, 2)\n",
        "\n",
        "err = abs((integral(-3, 5)-r)/r)*100\n",
        "print(\"For n = \", 2, \"the approximation is: \", simp13(f(\"x\"), -3, 5, 2), \"the error is: \", err, \"%\")"
      ],
      "execution_count": null,
      "outputs": []
    },
    {
      "cell_type": "markdown",
      "metadata": {
        "id": "JnHsWHrCSv0S"
      },
      "source": [
        "In the codes above, this verifies that it is exact for polynomials of degree 3 or less if you are using Simpson’s 1/3 method. As shown in the dx function, the solution of the 4th derivative of f(x) is equal to zero. It is always true with the polynomial of degree 3 or less. Because lower order derivatives have a non-zero value, we can't use them in the error calculation."
      ]
    },
    {
      "cell_type": "code",
      "metadata": {
        "id": "DwEWF6oZ0M7K"
      },
      "source": [
        "f = lambda x: np.cos(2*x)-np.sin(2*x)\n",
        "a, b = 0,10\n",
        "n = 1e4\n",
        "trigo_tans1 = trapz_rule(f, a,b,n)\n",
        "trigo_terr1 = (abs(asol-trigo_tans1)/asol)*100"
      ],
      "execution_count": 87,
      "outputs": []
    },
    {
      "cell_type": "code",
      "metadata": {
        "colab": {
          "base_uri": "https://localhost:8080/"
        },
        "id": "k1NQusN83oim",
        "outputId": "c9691fc4-8e50-4573-f819-adf3256513a2"
      },
      "source": [
        "print('Trapezoid Trigo Func: {} Error: {}'.format(trig_tans1,trig_terr1))"
      ],
      "execution_count": 88,
      "outputs": [
        {
          "output_type": "stream",
          "text": [
            "Trapezoid Trigo Func: 0.16051360276595403 Error: 99.9998629611519\n"
          ],
          "name": "stdout"
        }
      ]
    },
    {
      "cell_type": "code",
      "metadata": {
        "id": "J98Hw5s00kXA"
      },
      "source": [
        "f = lambda x: np.log(x**2+3)\n",
        "a, b = 0,10\n",
        "n = 1e4\n",
        "log_tans1 = trapz_rule(f, a,b,n)\n",
        "log_terr1 = (abs(asol-log_tans1)/asol)*100"
      ],
      "execution_count": 90,
      "outputs": []
    },
    {
      "cell_type": "code",
      "metadata": {
        "colab": {
          "base_uri": "https://localhost:8080/"
        },
        "id": "Z9THK16b38fk",
        "outputId": "67e51494-f768-4e65-e464-5573f6c70309"
      },
      "source": [
        "print('Trapezoid Log Func: {} Error: {}'.format(log_tans1,log_terr1))"
      ],
      "execution_count": 91,
      "outputs": [
        {
          "output_type": "stream",
          "text": [
            "Trapezoid Log Func: 31.194582252758618 Error: 99.97336755549154\n"
          ],
          "name": "stdout"
        }
      ]
    },
    {
      "cell_type": "code",
      "metadata": {
        "id": "FNXg5QzW2Sgd"
      },
      "source": [
        "def simp_13(func,lb,ub,divs):\n",
        "  h = (ub-lb)/divs\n",
        "  A = (func(lb)+func(ub))+ \\\n",
        "            np.sum(4*func(lb+h*np.arange(1,divs,2)))+ \\\n",
        "            np.sum(2*func(lb+h*np.arange(2,divs,2)))\n",
        "  S = (h/3)*A\n",
        "  return S"
      ],
      "execution_count": 94,
      "outputs": []
    },
    {
      "cell_type": "code",
      "metadata": {
        "id": "OxAIYgvG016C"
      },
      "source": [
        "f = lambda x : np.cos(3*x)-np.sin(3*x)\n",
        "a, b = 0,10\n",
        "n = 1e4\n",
        "trig13_sans1 = simp_13(f, a,b,n)\n",
        "trig13_serr1 = (abs(asol-trig13_sans1)/asol)*100"
      ],
      "execution_count": 93,
      "outputs": []
    },
    {
      "cell_type": "code",
      "metadata": {
        "id": "FaTzse8n4OwS"
      },
      "source": [
        "print('Simpson 1/3: {} Error: {}'.format(trig13_sans1,trig13_serr1))"
      ],
      "execution_count": null,
      "outputs": []
    },
    {
      "cell_type": "code",
      "metadata": {
        "id": "B4OOuu0P04vh"
      },
      "source": [
        "f = lambda x : np.log(x**2+3)\n",
        "a, b = 0,10\n",
        "n = 1e4\n",
        "log13_sans1 = simp_13(f, a,b,n)\n",
        "log13_serr1 = (abs(asol-log13_sans1)/asol)*100"
      ],
      "execution_count": 74,
      "outputs": []
    },
    {
      "cell_type": "code",
      "metadata": {
        "colab": {
          "base_uri": "https://localhost:8080/"
        },
        "id": "v7-ECfRk1_BT",
        "outputId": "1507a184-e084-41dc-face-f8f5e80c41c1"
      },
      "source": [
        "print('Simpson 1/3:{} Error:{}'.format(log13_sans1,log13_serr1))"
      ],
      "execution_count": 76,
      "outputs": [
        {
          "output_type": "stream",
          "text": [
            "Simpson 1/3:31.194582236577386 Error:99.97336755550535\n"
          ],
          "name": "stdout"
        }
      ]
    },
    {
      "cell_type": "code",
      "metadata": {
        "id": "JwR5lijhZDQx"
      },
      "source": [
        "def simp_38(f, a, b, n):\n",
        "\th = (b-a)/n\n",
        "\ts5 = f(a) + f(b)\n",
        "\tfor i in range(n):\n",
        "\t\tif(n%3 == 0):\n",
        "\t\t\ts5 = s5 + 2*f(a + i*h)\n",
        "\t\telse:\n",
        "\t\t\ts5 = s5 + 3*f(a + i*h)\t\t\t\n",
        "\ts = ((3*h)/8)*s5 \n",
        "\treturn s\n"
      ],
      "execution_count": 28,
      "outputs": []
    },
    {
      "cell_type": "code",
      "metadata": {
        "id": "pFxqljEuYxE2"
      },
      "source": [
        "print(\"Composite 3/8 Simpsons Rule\")\n",
        "print(\"\")\n",
        "\n",
        "for i in range(1, 100, 3):\n",
        "\ts38 = simp_38(f(\"x\"), -3, 5, i)\n",
        "\te38 = abs((integral(-3, 5) - s38)/integral(-3, 5))*100    \n",
        "\ts38 = round(s38, 4)\n",
        "\te38 = round(e38, 4)\n",
        "\tprint(\"Approximation = \", s38, \"Error = \", e38, \"%\")\n",
        "    \n",
        "print(\"\")\n",
        "\n",
        "print(\"Approximation at n = 200: \", simp_38(f(\"x\"), -3, 5, 200))\n",
        "print(\"Error: \", abs((integral(-3, 5) - simp_38(f(\"x\"), -3, 5, 200))/integral(-3, 5))*100, \"%\")\n",
        "\n",
        "print(\"\")\n",
        "print(\"If n is increase to 200\")\n",
        "\n",
        "for i in range(1, 200, 3):\n",
        "    ss38 = simp_38(f(\"x\"), -3, 5, i)\n",
        "    err6 = abs((integral(-3, 5) - ss38)/integral(-3, 5))*100\n",
        "    if(err6 <= 0.005):\n",
        "        print(\"Approximation = \", ss38, \"Error = \", err6, \"%\")\n",
        "    \n",
        "print(\"\")"
      ],
      "execution_count": null,
      "outputs": []
    },
    {
      "cell_type": "code",
      "metadata": {
        "id": "9JyLCFPz2fPo"
      },
      "source": [
        "def simp_38(func,lb,ub,divs):\n",
        "  h = (ub-lb)/divs\n",
        "  A = (func(lb)+func(ub))+ \\\n",
        "            np.sum(3*(func(lb+h*np.arange(1,divs,3))))+ \\\n",
        "            np.sum(3*(func(lb+h*np.arange(2,divs,3))))+ \\\n",
        "            np.sum(2*func(lb+h*np.arange(3,divs,3)))\n",
        "  S = (3*h/8)*A\n",
        "  return S"
      ],
      "execution_count": 77,
      "outputs": []
    },
    {
      "cell_type": "code",
      "metadata": {
        "id": "MRD7HQ4K0952"
      },
      "source": [
        "f = lambda x : np.sin(3*x)-np.cos(3*x)\n",
        "a, b = 0,10\n",
        "n = 1e4\n",
        "trig38_sans1 = simp_38(f, a,b,n)\n",
        "tri38_serr1 = (abs(asol-trig38_sans1)/asol)*100"
      ],
      "execution_count": 96,
      "outputs": []
    },
    {
      "cell_type": "code",
      "metadata": {
        "colab": {
          "base_uri": "https://localhost:8080/"
        },
        "id": "OAy0jPQg4hiQ",
        "outputId": "08d91172-a759-4104-c9a4-6282b6dc029d"
      },
      "source": [
        "print('Simpson 3/8: {} Error: {}'.format(trig38_sans1,tri38_serr1))"
      ],
      "execution_count": 97,
      "outputs": [
        {
          "output_type": "stream",
          "text": [
            "Simpson 3/8: 0.6115453163836838 Error: 99.9994778918156\n"
          ],
          "name": "stdout"
        }
      ]
    },
    {
      "cell_type": "code",
      "metadata": {
        "id": "Dx3EQ-8z1AFZ"
      },
      "source": [
        "f = lambda x : np.log(x**2+3)\n",
        "a, b = 0,10\n",
        "n = 1e4\n",
        "log38_sans1 = simp_38(f, a,b,n)\n",
        "log38_serr1 = (abs(asol-log38_sans1)/asol)*100"
      ],
      "execution_count": 79,
      "outputs": []
    },
    {
      "cell_type": "code",
      "metadata": {
        "colab": {
          "base_uri": "https://localhost:8080/"
        },
        "id": "2voMXFAk2hFM",
        "outputId": "fa36ea7d-4c69-400c-a4f3-b0b4ebd4ee02"
      },
      "source": [
        "print('Simpson 3/8: {} Error: {}'.format(log38_sans1,tri38_serr1))"
      ],
      "execution_count": 81,
      "outputs": [
        {
          "output_type": "stream",
          "text": [
            "Simpson 3/8: 31.19342357860179 Error: 99.9994778918156\n"
          ],
          "name": "stdout"
        }
      ]
    },
    {
      "cell_type": "markdown",
      "metadata": {
        "id": "PK42B-gCaAhs"
      },
      "source": [
        "When we increase n to 200, something odd happens.\n",
        "The error starts to rise, meaning that there is an ideal value for n.\n",
        "We can set conditions and a tolerance value to boost our performance.\n",
        "As can be shown, constraining our algorithm within a tolerance level significantly improved our result."
      ]
    },
    {
      "cell_type": "code",
      "metadata": {
        "colab": {
          "base_uri": "https://localhost:8080/",
          "height": 0
        },
        "id": "72jQgDfIaM-z",
        "outputId": "4acb1324-ff4f-4ba5-c499-4d2baea70112"
      },
      "source": [
        "a = 0\n",
        "b = np.pi \n",
        "N = 1000\n",
        "\n",
        "ar = np.zeros(N)\n",
        "  \n",
        "for i in range (len(ar)):\n",
        "    ar[i] = random.uniform(a,b)\n",
        "\n",
        "integral = 0.0\n",
        "  \n",
        "def f(x):\n",
        "    return np.sin(x)\n",
        "for i in ar:\n",
        "    integral += f(i)\n",
        "\n",
        "ans = (b-a)/float(N)*integral\n",
        " \n",
        "print (\"The value calculated by monte carlo integration is {}.\".format(ans))"
      ],
      "execution_count": 34,
      "outputs": [
        {
          "output_type": "stream",
          "text": [
            "The value calculated by monte carlo integration is 2.0156062756159336.\n"
          ],
          "name": "stdout"
        }
      ]
    },
    {
      "cell_type": "markdown",
      "metadata": {
        "id": "avvw3pqXxjP8"
      },
      "source": [
        "#**3.**"
      ]
    },
    {
      "cell_type": "code",
      "metadata": {
        "id": "rQMtPGb_xmLc"
      },
      "source": [
        "f = lambda x: x*np.sin(x)\n",
        "def simp_38(func,lb,ub,divs): \n",
        "  h = (ub-lb)/divs\n",
        "  A = (func(lb)+func(ub))+ \\\n",
        "            np.sum(3*(func(lb+h*np.arange(1,divs,3))))+ \\\n",
        "            np.sum(3*(func(lb+h*np.arange(2,divs,3))))+ \\\n",
        "            np.sum(2*func(lb+h*np.arange(3,divs,3)))\n",
        "  S = (3*h/8)*A\n",
        "  return S"
      ],
      "execution_count": 54,
      "outputs": []
    },
    {
      "cell_type": "code",
      "metadata": {
        "colab": {
          "base_uri": "https://localhost:8080/",
          "height": 315
        },
        "id": "TWlhlerryajP",
        "outputId": "6898158d-4310-4032-98c4-cfbf89c02eb4"
      },
      "source": [
        "bin = 1000\n",
        "x = np.arange(0,100)\n",
        "y= np.zeros(x.size)\n",
        "\n",
        "for i in x:\n",
        "    y[i] = abs((bin/100) - simp_38(f,0,10,i))\n",
        "plt.plot(x,y)"
      ],
      "execution_count": 60,
      "outputs": [
        {
          "output_type": "stream",
          "text": [
            "/usr/local/lib/python3.7/dist-packages/ipykernel_launcher.py:3: RuntimeWarning: divide by zero encountered in long_scalars\n",
            "  This is separate from the ipykernel package so we can avoid doing imports until\n"
          ],
          "name": "stderr"
        },
        {
          "output_type": "execute_result",
          "data": {
            "text/plain": [
              "[<matplotlib.lines.Line2D at 0x7f42c8fdfa50>]"
            ]
          },
          "metadata": {
            "tags": []
          },
          "execution_count": 60
        },
        {
          "output_type": "display_data",
          "data": {
            "image/png": "[encoded data removed]",
            "text/plain": [
              "<Figure size 432x288 with 1 Axes>"
            ]
          },
          "metadata": {
            "tags": [],
            "needs_background": "light"
          }
        }
      ]
    },
    {
      "cell_type": "markdown",
      "metadata": {
        "id": "Ek4F-JJLpYMt"
      },
      "source": [
        "#**Reference**\n",
        "[1] “Integration (scipy.integrate) — SciPy v1.6.2 Reference Guide,” docs.scipy.org. https://docs.scipy.org/doc/scipy/reference/tutorial/integrate.html.\n",
        "‌"
      ]
    }
  ]
}